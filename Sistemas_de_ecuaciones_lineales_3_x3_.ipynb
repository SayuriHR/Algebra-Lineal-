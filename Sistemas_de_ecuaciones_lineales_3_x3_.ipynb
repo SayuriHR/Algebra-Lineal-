{
  "nbformat": 4,
  "nbformat_minor": 0,
  "metadata": {
    "colab": {
      "name": "Sistemas de ecuaciones lineales 3 x3  .ipynb",
      "provenance": []
    },
    "kernelspec": {
      "name": "python3",
      "display_name": "Python 3"
    },
    "language_info": {
      "name": "python"
    }
  },
  "cells": [
    {
      "cell_type": "markdown",
      "source": [
        "#ELIMINACION GAUSSIANA\n",
        "#HERNANDEZ RUBIO DAIRA SAYURI \n",
        "# PRIMER PARCIAL \n",
        "\n",
        "\n"
      ],
      "metadata": {
        "id": "lMM2ij0rTLQo"
      }
    },
    {
      "cell_type": "code",
      "source": [
        "import numpy\n",
        "a= int(input('Numero de renglones: '))  #Aqui pedimos al usario el numero de renglones y columnas  \n",
        "b= int(input('Numero de columnas: '))    \n",
        "matriz = numpy.zeros((a,b))     #es para llenar la matriz con ceros \n",
        "vector= numpy.zeros((b))        #alamcenar los valores del vector \n",
        "x=numpy.zeros((a))              #alamcenar los resultados despues del proceso de operacion \n",
        "\n",
        "print('Introduce la matriz de coeficientes y la solución vectorial')\n",
        "\n",
        "for r in range(0,a):        #r= son los renglones\n",
        "    for c in range(0,b):    #c = son las columnas \n",
        "        matriz[(r),(c)]=(input(\"Elemento a[\"+str(r+1)+\",\"+str(c+1)+\"] \"))   #escribir los numerosdentro de la matriz   \n",
        "    vector[(r)]=(input('b['+str(r+1)+']: '))    \n",
        "print(matriz)       #Imprimir la matriz que tenemos \n",
        "\n",
        "for k in range (0,a):       \n",
        "    for r in range(k+1, a):\n",
        "        factor=(matriz[r,k]/matriz[k,k])    #es la parte que cambia los reglones \n",
        "        vector[r]=vector[r]-(factor*vector[k])  #son las operaciones para obtener los 0 \n",
        "        for c in range  (0, b):\n",
        "            matriz[r,c]=matriz[r,c]-(factor*matriz[k,c])    # involucra a las columnas y es para la matriz de coeficientes \n",
        "\n",
        "#sustitución hacia atrás\n",
        "x[a-1]=vector[a-1]/matriz[a-1,b-1]     #despeje de la ultima variable de la matriz \n",
        "print(x[b-1])   \n",
        "\n",
        "for r in range(a-2,-1,-1):     \n",
        "    suma=0  #Guardar los valores de la multiplicacion \n",
        "    for c in range (0, b):\n",
        "        suma=suma+matriz[r,c]*x[c]      #despeje que hace para conecer el resultado de las incognitas \n",
        "    x[r]=(vector[r]-suma)/matriz[r,r]   #es variable que controla los renglones \n",
        "\n",
        "\n",
        "print('Resultado matriz')\n",
        "print(matriz)\n",
        "print('Resultado del vector')\n",
        "print(vector)\n",
        "print('RESULTADO FINAL : ')\n",
        "print(x)\n",
        "\n",
        "\n"
      ],
      "metadata": {
        "colab": {
          "base_uri": "https://localhost:8080/"
        },
        "id": "_mR_kC3dVOvk",
        "outputId": "cd522416-dddd-499c-f115-e0b9d72ed614"
      },
      "execution_count": 1,
      "outputs": [
        {
          "output_type": "stream",
          "name": "stdout",
          "text": [
            "Numero de renglones: 3\n",
            "Numero de columnas: 3\n",
            "Introduce la matriz de coeficientes y la solución vectorial\n",
            "Elemento a[1,1] 2\n",
            "Elemento a[1,2] 4\n",
            "Elemento a[1,3] 6\n",
            "b[1]: 18\n",
            "Elemento a[2,1] 4\n",
            "Elemento a[2,2] 5\n",
            "Elemento a[2,3] 6\n",
            "b[2]: 24\n",
            "Elemento a[3,1] 3\n",
            "Elemento a[3,2] 1\n",
            "Elemento a[3,3] -2\n",
            "b[3]: 4\n",
            "[[ 2.  4.  6.]\n",
            " [ 4.  5.  6.]\n",
            " [ 3.  1. -2.]]\n",
            "3.0\n",
            "Resultado matriz\n",
            "[[ 2.  4.  6.]\n",
            " [ 0. -3. -6.]\n",
            " [ 0.  0. -1.]]\n",
            "Resultado del vector\n",
            "[ 18. -12.  -3.]\n",
            "RESULTADO FINAL : \n",
            "[ 4. -2.  3.]\n"
          ]
        }
      ]
    }
  ]
}